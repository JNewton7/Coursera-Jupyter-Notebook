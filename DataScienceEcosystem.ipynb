{
 "cells": [
  {
   "cell_type": "markdown",
   "id": "647234de-fc3e-447d-9c80-6c70bb748ae0",
   "metadata": {},
   "source": [
    "# Data Science Tools and Ecosystem"
   ]
  },
  {
   "cell_type": "markdown",
   "id": "1b2a3319-0454-4952-b203-d401e899f508",
   "metadata": {},
   "source": [
    "**Objectives:**"
   ]
  },
  {
   "cell_type": "markdown",
   "id": "b36c50c4-8c98-43b9-8dd2-967bc3486a8a",
   "metadata": {},
   "source": [
    "* List popular languages for Data Science \n",
    "* List commonly used libraries \n",
    "* List commonly used data science tools \n",
    "* Show you can run code for math with an output \n",
    "* Show you can create a table in Jupyter Notebook"
   ]
  },
  {
   "cell_type": "markdown",
   "id": "48a1cd82-a7e6-47b9-8350-787254d76e03",
   "metadata": {},
   "source": [
    "In this notebook, Data Science Tools and Ecosystem are summarized."
   ]
  },
  {
   "cell_type": "markdown",
   "id": "03064274-6dd8-42cc-8d09-c83ba086bfa7",
   "metadata": {},
   "source": [
    "Some of the popular languages that Data Scientists use are:\n",
    "\n",
    "1. Python\n",
    "2. R\n",
    "3. C++\n",
    "\n"
   ]
  },
  {
   "cell_type": "markdown",
   "id": "f4781bd0-67aa-4caf-8526-3aaf0cd90ac9",
   "metadata": {},
   "source": [
    "Some of the commonly used libraries used by Data Scientists include:\n",
    "\n",
    "1. Numpy\n",
    "2. Tensorflow\n",
    "3. Pandas"
   ]
  },
  {
   "cell_type": "markdown",
   "id": "e5b24959-884c-4bb2-a032-1e3bbd78ff9b",
   "metadata": {},
   "source": [
    "| Data Science Tools |\n",
    "| ------------------ |\n",
    "| Apache Spark |\n",
    "| Keras |\n",
    "| Matlab |\n"
   ]
  },
  {
   "cell_type": "markdown",
   "id": "82e3e2a4-afbd-44c3-845e-05ff3d01f1d5",
   "metadata": {},
   "source": [
    "### Below are a few examples of evaluating arithmetic expressions in Python."
   ]
  },
  {
   "cell_type": "markdown",
   "id": "c9dfa351-fc54-4b89-a80c-a69089fe2498",
   "metadata": {},
   "source": [
    "This a simple arithmetic expression to mutiply then add integers"
   ]
  },
  {
   "cell_type": "code",
   "execution_count": 2,
   "id": "c6ca6e11-bfde-4c74-9a80-5f3d8cdf2296",
   "metadata": {
    "tags": []
   },
   "outputs": [
    {
     "data": {
      "text/plain": [
       "17"
      ]
     },
     "execution_count": 2,
     "metadata": {},
     "output_type": "execute_result"
    }
   ],
   "source": [
    "(3*4)+5"
   ]
  },
  {
   "cell_type": "markdown",
   "id": "330d4c00-bf19-4604-87d4-296db57af569",
   "metadata": {},
   "source": [
    "This will convert 200 minutes to hours by diving by 60"
   ]
  },
  {
   "cell_type": "code",
   "execution_count": 3,
   "id": "dfaf0714-5d73-4098-a234-2c3008f4ade6",
   "metadata": {
    "tags": []
   },
   "outputs": [
    {
     "data": {
      "text/plain": [
       "3.3333333333333335"
      ]
     },
     "execution_count": 3,
     "metadata": {},
     "output_type": "execute_result"
    }
   ],
   "source": [
    "200/60"
   ]
  },
  {
   "cell_type": "markdown",
   "id": "7a376fab-c090-4f9d-a505-3c2fa17bcc4c",
   "metadata": {
    "tags": []
   },
   "source": [
    "#### Author\n",
    "Joseph Newton"
   ]
  }
 ],
 "metadata": {
  "kernelspec": {
   "display_name": "Python",
   "language": "python",
   "name": "conda-env-python-py"
  },
  "language_info": {
   "codemirror_mode": {
    "name": "ipython",
    "version": 3
   },
   "file_extension": ".py",
   "mimetype": "text/x-python",
   "name": "python",
   "nbconvert_exporter": "python",
   "pygments_lexer": "ipython3",
   "version": "3.7.12"
  }
 },
 "nbformat": 4,
 "nbformat_minor": 5
}
